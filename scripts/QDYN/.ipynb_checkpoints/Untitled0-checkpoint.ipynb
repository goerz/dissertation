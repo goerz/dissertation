{
 "metadata": {
  "name": "",
  "signature": "sha256:b9dfe715a0b0e78d23cb6b9bb01fe21a9ebb17740cbb4a7ed1c2d83ae673d516"
 },
 "nbformat": 3,
 "nbformat_minor": 0,
 "worksheets": [
  {
   "cells": [
    {
     "cell_type": "code",
     "collapsed": false,
     "input": [
      "from scipy import signal\n",
      "from pylab import *\n",
      "from QDYN.pulse import *"
     ],
     "language": "python",
     "metadata": {},
     "outputs": [],
     "prompt_number": 1
    },
    {
     "cell_type": "code",
     "collapsed": false,
     "input": [
      "p = Pulse(\"pulse.dat\")\n",
      "p2 = Pulse(\"pulse.dat\")"
     ],
     "language": "python",
     "metadata": {},
     "outputs": [],
     "prompt_number": 2
    },
    {
     "cell_type": "code",
     "collapsed": false,
     "input": [
      "p.dw()"
     ],
     "language": "python",
     "metadata": {},
     "outputs": [
      {
       "metadata": {},
       "output_type": "pyout",
       "prompt_number": 3,
       "text": [
        "0.009999999999999997"
       ]
      }
     ],
     "prompt_number": 3
    },
    {
     "cell_type": "code",
     "collapsed": false,
     "input": [
      "p.w_max()"
     ],
     "language": "python",
     "metadata": {},
     "outputs": [
      {
       "metadata": {},
       "output_type": "pyout",
       "prompt_number": 4,
       "text": [
        "6.239999999999998"
       ]
      }
     ],
     "prompt_number": 4
    },
    {
     "cell_type": "code",
     "collapsed": false,
     "input": [],
     "language": "python",
     "metadata": {},
     "outputs": [
      {
       "metadata": {},
       "output_type": "pyout",
       "prompt_number": 7,
       "text": [
        "(array([-6.24, -6.23, -6.22, ...,  6.22,  6.23,  6.24]),\n",
        " array([-0.00047996 +4.62379543e-04j, -0.00035689 +3.96656689e-04j,\n",
        "        -0.00024900 -4.60665530e-05j, ..., -0.00083823 +7.03759174e-04j,\n",
        "        -0.00073294 +3.18060415e-04j, -0.00060914 +2.82203185e-04j]))"
       ]
      }
     ],
     "prompt_number": 7
    }
   ],
   "metadata": {}
  }
 ]
}